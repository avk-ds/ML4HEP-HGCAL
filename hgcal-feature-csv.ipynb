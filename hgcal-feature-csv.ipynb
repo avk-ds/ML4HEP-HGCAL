{
 "cells": [
  {
   "cell_type": "code",
   "execution_count": 13,
   "id": "5129fbee-dc31-49fd-800d-7758a5baeaf0",
   "metadata": {},
   "outputs": [],
   "source": [
    "import time, psutil, os\n",
    "import numpy as np\n",
    "import pandas as pd\n",
    "import h5py\n",
    "import matplotlib.pyplot as plt\n",
    "import awkward as ak\n",
    "from collections import Counter\n",
    "from statsmodels.stats.weightstats import DescrStatsW\n",
    "import csv"
   ]
  },
  {
   "cell_type": "code",
   "execution_count": 14,
   "id": "792eb0d8-45ba-4d7f-9292-4d794daee10a",
   "metadata": {},
   "outputs": [],
   "source": [
    "train_dataset = h5py.File('hgcal_electron_data_0001.h5', \"r\")\n",
    "nhits = np.array(train_dataset['nhits'])\n",
    "target_energy = np.array(train_dataset['target'])"
   ]
  },
  {
   "cell_type": "code",
   "execution_count": 15,
   "id": "32f14f97",
   "metadata": {},
   "outputs": [],
   "source": [
    "uniq_z = [13.8774995803833, 14.767499923706055, 16.782499313354492, 17.672500610351562, 19.6875, 20.577499389648438, 22.6924991607666, 23.582500457763672, 25.697500228881836, 26.587499618530273, 28.702499389648438, 29.592500686645508, 31.50749969482422, 32.397499084472656, 34.3125, 35.20249938964844, 37.11750030517578, 38.00749969482422, 39.92250061035156, 40.8125, 42.907501220703125, 44.037498474121094, 46.412498474121094, 47.54249954223633, 49.68199920654297, 50.6879997253418, 52.881500244140625, 53.903499603271484]"
   ]
  },
  {
   "cell_type": "code",
   "execution_count": 16,
   "id": "2c511e8f",
   "metadata": {},
   "outputs": [],
   "source": [
    "csvLabel = []\n",
    "for i in range(len(uniq_z)):\n",
    "    csvLabel.append(\"energySum_layer\" + str(i))\n",
    "for i in range(len(uniq_z)):\n",
    "    csvLabel.append(\"xMean_layer\" + str(i))\n",
    "for i in range(len(uniq_z)):\n",
    "    csvLabel.append(\"xStd_layer\" + str(i))\n",
    "for i in range(len(uniq_z)):\n",
    "    csvLabel.append(\"yMean_layer\" + str(i))\n",
    "for i in range(len(uniq_z)):\n",
    "    csvLabel.append(\"yStd_layer\" + str(i))\n",
    "for i in range(len(uniq_z)):\n",
    "    csvLabel.append(\"rMean_layer\" + str(i))\n",
    "for i in range(len(uniq_z)):\n",
    "    csvLabel.append(\"rStd_layer\" + str(i))\n",
    "for i in range(len(uniq_z)):\n",
    "    csvLabel.append(\"nhits_layer\" + str(i))\n",
    "csvLabel.append(\"nhits_total\")\n",
    "csvLabel.append(\"target_energy\")"
   ]
  },
  {
   "cell_type": "code",
   "execution_count": 11,
   "id": "ef2f1cdf",
   "metadata": {},
   "outputs": [
    {
     "name": "stdout",
     "output_type": "stream",
     "text": [
      "226\n"
     ]
    }
   ],
   "source": [
    "#print(csvLabel)\n",
    "print(len(csvLabel))"
   ]
  },
  {
   "cell_type": "code",
   "execution_count": 12,
   "id": "754e46cb-ebea-4f37-a0a3-5cdc7ac1c152",
   "metadata": {},
   "outputs": [
    {
     "name": "stdout",
     "output_type": "stream",
     "text": [
      "226\n"
     ]
    }
   ],
   "source": [
    "outFile = \"hgcal_electron_data_0001.csv\"\n",
    "with open(outFile, mode=\"w\", newline='') as f:\n",
    "    writer = csv.writer(f)\n",
    "    writer.writerow(csvLabel)\n",
    "    \n",
    "# Current index in the rechit_energy array\n",
    "current_index = 0\n",
    "events = 0\n",
    "maxEvents = -1\n",
    "\n",
    "# Iterate over the nhits array\n",
    "for nhit in nhits:\n",
    "    if events >= maxEvents and maxEvents > 0:\n",
    "        break\n",
    "    # Convert nhit to an integer\n",
    "    nhit = int(nhit)\n",
    "    # Extract the corresponding subarray from rechit_energy\n",
    "    subArray_energy = train_dataset['rechit_energy'][current_index:current_index + nhit] * 0.1\n",
    "    subArray_z = train_dataset['rechit_z'][current_index:current_index + nhit]\n",
    "    subArray_x = train_dataset['rechit_x'][current_index:current_index + nhit]\n",
    "    subArray_y = train_dataset['rechit_y'][current_index:current_index + nhit]\n",
    "    \n",
    "    subArray_r = np.array([(x**2 + y**2)**0.5 for x,y in zip(subArray_x,subArray_y)])\n",
    "    \n",
    "    energy_perZ = [ subArray_energy[subArray_z == zVal] for zVal in uniq_z]\n",
    "    r_perZ = [ subArray_r[subArray_z == zVal] for zVal in uniq_z]\n",
    "    x_perZ = [ subArray_x[subArray_z == zVal] for zVal in uniq_z]\n",
    "    y_perZ = [ subArray_y[subArray_z == zVal] for zVal in uniq_z]\n",
    "    count_perZ = [len(val) for val in r_perZ]\n",
    "    \n",
    "    energySum_perZ = [sum(x) for x in energy_perZ]\n",
    "    \n",
    "    x_DescrStatsW = [ DescrStatsW(array, weights=weights, ddof=0) for array,weights in zip(x_perZ,energy_perZ) ]\n",
    "    xMean_perZ = [ stat.mean for stat in x_DescrStatsW ]\n",
    "    xMean_perZ = [0 if np.isnan(value) else value for value in xMean_perZ]\n",
    "    xStd_perZ = [ stat.std for stat in x_DescrStatsW ]\n",
    "    xStd_perZ = [0 if np.isnan(value) else value for value in xStd_perZ]\n",
    "    \n",
    "    y_DescrStatsW = [ DescrStatsW(array, weights=weights, ddof=0) for array,weights in zip(y_perZ,energy_perZ) ]\n",
    "    yMean_perZ = [ stat.mean for stat in y_DescrStatsW ]\n",
    "    yMean_perZ = [0 if np.isnan(value) else value for value in yMean_perZ]\n",
    "    yStd_perZ = [ stat.std for stat in y_DescrStatsW ]\n",
    "    yStd_perZ = [0 if np.isnan(value) else value for value in yStd_perZ]\n",
    "    \n",
    "    r_DescrStatsW = [ DescrStatsW(array, weights=weights, ddof=0) for array,weights in zip(r_perZ,energy_perZ) ]\n",
    "    rMean_perZ = [ stat.mean for stat in r_DescrStatsW ]\n",
    "    rMean_perZ = [0 if np.isnan(value) else value for value in rMean_perZ]\n",
    "    rStd_perZ = [ stat.std for stat in r_DescrStatsW ]\n",
    "    rStd_perZ = [0 if np.isnan(value) else value for value in rStd_perZ]\n",
    "    \n",
    "    if events == 0:   \n",
    "        print(len(energySum_perZ + xMean_perZ + xStd_perZ + yMean_perZ + yStd_perZ + rMean_perZ + rStd_perZ + count_perZ + [nhit] + [target_energy[events]]))\n",
    "    \n",
    "    with open(outFile, mode=\"a\", newline='') as f:\n",
    "        writer = csv.writer(f)\n",
    "        writer.writerow(energySum_perZ + xMean_perZ + xStd_perZ + yMean_perZ + yStd_perZ + rMean_perZ + rStd_perZ + count_perZ + [nhit] + [target_energy[events]])\n",
    "        \n",
    "    current_index += nhit\n",
    "    events += 1\n"
   ]
  },
  {
   "cell_type": "code",
   "execution_count": null,
   "id": "728cc1a7",
   "metadata": {},
   "outputs": [],
   "source": [
    "len(target_energy)"
   ]
  },
  {
   "cell_type": "code",
   "execution_count": null,
   "id": "dbde207e",
   "metadata": {},
   "outputs": [],
   "source": []
  }
 ],
 "metadata": {
  "@webio": {
   "lastCommId": null,
   "lastKernelId": null
  },
  "kernelspec": {
   "display_name": "Python 3",
   "language": "python",
   "name": "python3"
  },
  "language_info": {
   "codemirror_mode": {
    "name": "ipython",
    "version": 3
   },
   "file_extension": ".py",
   "mimetype": "text/x-python",
   "name": "python",
   "nbconvert_exporter": "python",
   "pygments_lexer": "ipython3",
   "version": "3.9.12"
  }
 },
 "nbformat": 4,
 "nbformat_minor": 5
}
